{
 "cells": [
  {
   "cell_type": "markdown",
   "id": "76810b6a-0c6b-4d1e-8bb0-cf00f48167e4",
   "metadata": {
    "editable": true,
    "slideshow": {
     "slide_type": ""
    },
    "tags": []
   },
   "source": [
    "# Download OpenMRG Personal Weather Stations data"
   ]
  },
  {
   "cell_type": "markdown",
   "id": "7d7a3037-8632-4195-a19d-4eb56cfe4034",
   "metadata": {},
   "source": [
    "The OpenMRG data set consist of 30 Personal Weather Stations located in the surrounding of Gothenburg, Sweden, for the period 2015-06-01 to 2015-09-01.\n",
    "\n",
    "The data set is available at **XX**. By running the cell below, the data will be downloaded to your current repository (if your machine is connected to the internet)."
   ]
  },
  {
   "cell_type": "code",
   "execution_count": 2,
   "id": "62fe83a9-8c23-4dbc-8782-4a89272e7f1c",
   "metadata": {},
   "outputs": [],
   "source": [
    "!curl -OL https://drive.google.com/file/d/1-RxWDvkstJ4IBCIeSby2feXCRV3R1OQd/view?usp=sharing"
   ]
  }
 ],
 "metadata": {
  "kernelspec": {
   "display_name": "Python 3 (ipykernel)",
   "language": "python",
   "name": "python3"
  },
  "language_info": {
   "codemirror_mode": {
    "name": "ipython",
    "version": 3
   },
   "file_extension": ".py",
   "mimetype": "text/x-python",
   "name": "python",
   "nbconvert_exporter": "python",
   "pygments_lexer": "ipython3",
   "version": "3.12.3"
  }
 },
 "nbformat": 4,
 "nbformat_minor": 5
}
